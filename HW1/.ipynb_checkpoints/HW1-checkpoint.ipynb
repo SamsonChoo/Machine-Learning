{
 "cells": [
  {
   "cell_type": "code",
   "execution_count": 2,
   "metadata": {},
   "outputs": [],
   "source": [
    "import numpy as np\n",
    "X=np.array([])\n",
    "Y=np.array([])\n",
    "data = None\n",
    "n = None\n",
    "l = None"
   ]
  },
  {
   "cell_type": "code",
   "execution_count": 3,
   "metadata": {},
   "outputs": [],
   "source": [
    "def LSE(file,n,l):\n",
    "    data = np.loadtxt(file,delimiter=\",\")\n",
    "    n = self.n\n",
    "    l = self.l\n",
    "    print (m)\n",
    "    "
   ]
  },
  {
   "cell_type": "code",
   "execution_count": 41,
   "metadata": {},
   "outputs": [],
   "source": [
    "def matrix_mult(X,Y):\n",
    "    result = [[sum(a*b for a,b in zip(X_row,Y_col)) for Y_col in zip(*Y)] for X_row in X]\n",
    "    return result"
   ]
  },
  {
   "cell_type": "code",
   "execution_count": 42,
   "metadata": {},
   "outputs": [],
   "source": [
    "def matrix_add(X,Y):\n",
    "    result = [[X[i][j] + Y[i][j]  for j in range(len(X[0]))] for i in range(len(X))]\n",
    "    return result"
   ]
  },
  {
   "cell_type": "code",
   "execution_count": 43,
   "metadata": {},
   "outputs": [],
   "source": [
    "def matrix_trans(X):\n",
    "    result = [[X[j][i] for j in range(len(X))] for i in range(len(X[0]))]\n",
    "    return result"
   ]
  },
  {
   "cell_type": "code",
   "execution_count": 50,
   "metadata": {},
   "outputs": [],
   "source": [
    "def lu_decomposition(X):\n",
    "    n = len(X)\n",
    "\n",
    "    # Create zero matrices for L and U                                                                                                                                                                                                                 \n",
    "    L = [[0.0] * n for i in xrange(n)]\n",
    "    U = [[0.0] * n for i in xrange(n)]\n",
    "\n",
    "    # Create the pivot matrix P and the multipled matrix PA                                                                                                                                                                                            \n",
    "    P = pivot_matrix(A)\n",
    "    PA = mult_matrix(P, A)\n",
    "\n",
    "    # Perform the LU Decomposition                                                                                                                                                                                                                     \n",
    "    for j in xrange(n):\n",
    "        # All diagonal entries of L are set to unity                                                                                                                                                                                                   \n",
    "        L[j][j] = 1.0\n",
    "\n",
    "        # LaTeX: u_{ij} = a_{ij} - \\sum_{k=1}^{i-1} u_{kj} l_{ik}                                                                                                                                                                                      \n",
    "        for i in xrange(j+1):\n",
    "            s1 = sum(U[k][j] * L[i][k] for k in xrange(i))\n",
    "            U[i][j] = PA[i][j] - s1\n",
    "\n",
    "        # LaTeX: l_{ij} = \\frac{1}{u_{jj}} (a_{ij} - \\sum_{k=1}^{j-1} u_{kj} l_{ik} )                                                                                                                                                                  \n",
    "        for i in xrange(j, n):\n",
    "            s2 = sum(U[k][j] * L[i][k] for k in xrange(j))\n",
    "            L[i][j] = (PA[i][j] - s2) / U[j][j]\n",
    "\n",
    "    return (P, L, U)\n",
    "\n"
   ]
  },
  {
   "cell_type": "code",
   "execution_count": 45,
   "metadata": {},
   "outputs": [],
   "source": [
    "def lu_inverse(X):\n",
    "        (L,U) = lu_decomposition(X)\n",
    "        print (L,U)\n",
    "        id_mat = [[float(i ==j) for i in range(len(X))] for j in range(len(X))]\n",
    "        A_inv = []\n",
    "        \n",
    "        for cols in range(len(id_mat[0])):\n",
    "            Zcol = []\n",
    "            # Solve for LZ = I\n",
    "            for i in range(len(id_mat)):\n",
    "                linearsum = id_mat[i][cols]\n",
    "                if i == 0:\n",
    "                    Zcol.append(linearsum/L[i][i])\n",
    "                else:\n",
    "                    for j in range(i):\n",
    "                        linearsum -= Zcol[j]*L[i][j]\n",
    "\n",
    "                    Zcol.append(linearsum/L[i][i])\n",
    "            print('zcol')\n",
    "            print(Zcol)"
   ]
  },
  {
   "cell_type": "code",
   "execution_count": 4,
   "metadata": {},
   "outputs": [
    {
     "ename": "NameError",
     "evalue": "name 'self' is not defined",
     "output_type": "error",
     "traceback": [
      "\u001b[0;31m---------------------------------------------------------------------------\u001b[0m",
      "\u001b[0;31mNameError\u001b[0m                                 Traceback (most recent call last)",
      "\u001b[0;32m<ipython-input-4-e0cb74b00312>\u001b[0m in \u001b[0;36m<module>\u001b[0;34m()\u001b[0m\n\u001b[0;32m----> 1\u001b[0;31m \u001b[0mLSE\u001b[0m\u001b[0;34m(\u001b[0m\u001b[0;34m\"data.txt\"\u001b[0m\u001b[0;34m,\u001b[0m\u001b[0;36m3\u001b[0m\u001b[0;34m,\u001b[0m\u001b[0;36m1\u001b[0m\u001b[0;34m)\u001b[0m\u001b[0;34m\u001b[0m\u001b[0m\n\u001b[0m",
      "\u001b[0;32m<ipython-input-3-47255661b954>\u001b[0m in \u001b[0;36mLSE\u001b[0;34m(file, n, l)\u001b[0m\n\u001b[1;32m      1\u001b[0m \u001b[0;32mdef\u001b[0m \u001b[0mLSE\u001b[0m\u001b[0;34m(\u001b[0m\u001b[0mfile\u001b[0m\u001b[0;34m,\u001b[0m\u001b[0mn\u001b[0m\u001b[0;34m,\u001b[0m\u001b[0ml\u001b[0m\u001b[0;34m)\u001b[0m\u001b[0;34m:\u001b[0m\u001b[0;34m\u001b[0m\u001b[0m\n\u001b[1;32m      2\u001b[0m     \u001b[0mdata\u001b[0m \u001b[0;34m=\u001b[0m \u001b[0mnp\u001b[0m\u001b[0;34m.\u001b[0m\u001b[0mloadtxt\u001b[0m\u001b[0;34m(\u001b[0m\u001b[0mfile\u001b[0m\u001b[0;34m,\u001b[0m\u001b[0mdelimiter\u001b[0m\u001b[0;34m=\u001b[0m\u001b[0;34m\",\"\u001b[0m\u001b[0;34m)\u001b[0m\u001b[0;34m\u001b[0m\u001b[0m\n\u001b[0;32m----> 3\u001b[0;31m     \u001b[0mn\u001b[0m \u001b[0;34m=\u001b[0m \u001b[0mself\u001b[0m\u001b[0;34m.\u001b[0m\u001b[0mn\u001b[0m\u001b[0;34m\u001b[0m\u001b[0m\n\u001b[0m\u001b[1;32m      4\u001b[0m     \u001b[0ml\u001b[0m \u001b[0;34m=\u001b[0m \u001b[0mself\u001b[0m\u001b[0;34m.\u001b[0m\u001b[0ml\u001b[0m\u001b[0;34m\u001b[0m\u001b[0m\n\u001b[1;32m      5\u001b[0m     \u001b[0mprint\u001b[0m \u001b[0;34m(\u001b[0m\u001b[0mm\u001b[0m\u001b[0;34m)\u001b[0m\u001b[0;34m\u001b[0m\u001b[0m\n",
      "\u001b[0;31mNameError\u001b[0m: name 'self' is not defined"
     ]
    }
   ],
   "source": [
    "LSE(\"data.txt\",3,1)"
   ]
  },
  {
   "cell_type": "code",
   "execution_count": null,
   "metadata": {},
   "outputs": [],
   "source": []
  }
 ],
 "metadata": {
  "kernelspec": {
   "display_name": "Python 3",
   "language": "python",
   "name": "python3"
  },
  "language_info": {
   "codemirror_mode": {
    "name": "ipython",
    "version": 3
   },
   "file_extension": ".py",
   "mimetype": "text/x-python",
   "name": "python",
   "nbconvert_exporter": "python",
   "pygments_lexer": "ipython3",
   "version": "3.5.2"
  }
 },
 "nbformat": 4,
 "nbformat_minor": 2
}
