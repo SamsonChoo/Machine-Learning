{
 "cells": [
  {
   "cell_type": "code",
   "execution_count": 8,
   "metadata": {},
   "outputs": [],
   "source": [
    "import numpy as np\n",
    "X=[[1,2,3],[2,2,4],[3,1,2]]\n",
    "Y=[[3,2,3],[2,4,3],[2,5,3]]"
   ]
  },
  {
   "cell_type": "code",
   "execution_count": 16,
   "metadata": {},
   "outputs": [],
   "source": [
    "def LSE(file,n,l):\n",
    "    pass"
   ]
  },
  {
   "cell_type": "code",
   "execution_count": 6,
   "metadata": {},
   "outputs": [],
   "source": [
    "def matrix_mult(X,Y):\n",
    "    result = [[sum(a*b for a,b in zip(X_row,Y_col)) for Y_col in zip(*Y)] for X_row in X]\n",
    "    return result"
   ]
  },
  {
   "cell_type": "code",
   "execution_count": 10,
   "metadata": {},
   "outputs": [],
   "source": [
    "def matrix_add(X,Y):\n",
    "    result = [[X[i][j] + Y[i][j]  for j in range(len(X[0]))] for i in range(len(X))]\n",
    "    return result"
   ]
  },
  {
   "cell_type": "code",
   "execution_count": 13,
   "metadata": {},
   "outputs": [],
   "source": [
    "def matrix_trans(X):\n",
    "    result = [[X[j][i] for j in range(len(X))] for i in range(len(X[0]))]\n",
    "    return result"
   ]
  },
  {
   "cell_type": "code",
   "execution_count": 2,
   "metadata": {},
   "outputs": [],
   "source": [
    "def lu_decomposition(self,A):\n",
    "        # Create matrices for L and U                                                                                                                                                                                                                 \n",
    "        L = [[float(i ==j) for i in range(len(A))] for j in range(len(A))]    \n",
    "        U = A\n",
    "        \n",
    "        for i in range(self.base_no):\n",
    "            k = i+1\n",
    "            while (k<self.base_no):\n",
    "                L_factor = U[k][i]/U[i][i]\n",
    "\n",
    "                for j in range(self.base_no):\n",
    "                    U[k][j] -= U[i][j]*L_factor\n",
    "                L[k][i] = L_factor\n",
    "                k+=1\n",
    "        return L,U"
   ]
  },
  {
   "cell_type": "code",
   "execution_count": null,
   "metadata": {},
   "outputs": [],
   "source": [
    "id_mat = [[float(i ==j) for i in range(len(ata))] for j in range(len(ata))]\n",
    "        A_inv = []\n",
    "        \n",
    "        for cols in range(len(id_mat[0])):\n",
    "            Zcol = []\n",
    "            # Solve for LZ = I\n",
    "            for i in range(len(id_mat)):\n",
    "                linearsum = id_mat[i][cols]\n",
    "                if i == 0:\n",
    "                    Zcol.append(linearsum/L[i][i])\n",
    "                else:\n",
    "                    for j in range(i):\n",
    "                        linearsum -= Zcol[j]*L[i][j]\n",
    "\n",
    "                    Zcol.append(linearsum/L[i][i])\n",
    "            print('zcol')\n",
    "            print(Zcol)"
   ]
  },
  {
   "cell_type": "code",
   "execution_count": 14,
   "metadata": {},
   "outputs": [
    {
     "data": {
      "text/plain": [
       "[[1, 2, 3], [2, 2, 1], [3, 4, 2]]"
      ]
     },
     "execution_count": 14,
     "metadata": {},
     "output_type": "execute_result"
    }
   ],
   "source": [
    "matrix_trans(X)"
   ]
  },
  {
   "cell_type": "code",
   "execution_count": null,
   "metadata": {},
   "outputs": [],
   "source": []
  }
 ],
 "metadata": {
  "kernelspec": {
   "display_name": "Python 3",
   "language": "python",
   "name": "python3"
  },
  "language_info": {
   "codemirror_mode": {
    "name": "ipython",
    "version": 3
   },
   "file_extension": ".py",
   "mimetype": "text/x-python",
   "name": "python",
   "nbconvert_exporter": "python",
   "pygments_lexer": "ipython3",
   "version": "3.5.2"
  }
 },
 "nbformat": 4,
 "nbformat_minor": 2
}
