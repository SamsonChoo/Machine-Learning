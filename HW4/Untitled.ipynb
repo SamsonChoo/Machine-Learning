{
 "cells": [
  {
   "cell_type": "code",
   "execution_count": 7,
   "metadata": {},
   "outputs": [],
   "source": [
    "import numpy as np\n",
    "import math"
   ]
  },
  {
   "cell_type": "code",
   "execution_count": 8,
   "metadata": {},
   "outputs": [],
   "source": [
    "def univar_gauss(m,s):\n",
    "    U=0                         #initialise\n",
    "    for i in range(12):\n",
    "        U+=np.random.uniform()\n",
    "    U-=6\n",
    "    U*=math.sqrt(s)\n",
    "    U+=m\n",
    "    return U"
   ]
  },
  {
   "cell_type": "code",
   "execution_count": 23,
   "metadata": {},
   "outputs": [],
   "source": [
    "def log_reg(n,mx1, vx1, my1, vy1, mx2, vx2, my2, vy2):\n",
    "    D1=[]\n",
    "    D2=[]\n",
    "    for i in range(n):\n",
    "        D1.append((univar_gauss(mx1,vx1),univar_gauss(my1,vy1)))\n",
    "    for i in range(n):\n",
    "        D2.append((univar_gauss(mx2,vx2),univar_gauss(my2,vy2)))\n",
    "    #print(\"D1: \"+str(D1))\n",
    "    #print(\"D2: \"+str(D2))\n",
    "\n",
    "    \n",
    "log_reg(100,1,1,1,1,5,5,5,5)"
   ]
  },
  {
   "cell_type": "code",
   "execution_count": null,
   "metadata": {},
   "outputs": [],
   "source": []
  }
 ],
 "metadata": {
  "kernelspec": {
   "display_name": "Python 3",
   "language": "python",
   "name": "python3"
  },
  "language_info": {
   "codemirror_mode": {
    "name": "ipython",
    "version": 3
   },
   "file_extension": ".py",
   "mimetype": "text/x-python",
   "name": "python",
   "nbconvert_exporter": "python",
   "pygments_lexer": "ipython3",
   "version": "3.5.2"
  }
 },
 "nbformat": 4,
 "nbformat_minor": 2
}
